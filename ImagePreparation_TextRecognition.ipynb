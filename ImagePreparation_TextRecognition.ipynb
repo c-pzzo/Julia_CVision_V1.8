{
 "cells": [
  {
   "cell_type": "markdown",
   "id": "4728dcab",
   "metadata": {},
   "source": [
    "# About"
   ]
  },
  {
   "cell_type": "markdown",
   "id": "1d083d9b",
   "metadata": {},
   "source": [
    "# Libraries"
   ]
  },
  {
   "cell_type": "code",
   "execution_count": null,
   "id": "916f26ce",
   "metadata": {},
   "outputs": [],
   "source": [
    "using Images, TestImages, ImageMorphology"
   ]
  },
  {
   "cell_type": "code",
   "execution_count": null,
   "id": "0665305e",
   "metadata": {},
   "outputs": [],
   "source": [
    "# User-Defined Functions"
   ]
  },
  {
   "cell_type": "code",
   "execution_count": null,
   "id": "5a922294",
   "metadata": {},
   "outputs": [],
   "source": []
  },
  {
   "cell_type": "code",
   "execution_count": null,
   "id": "297728f2",
   "metadata": {},
   "outputs": [],
   "source": []
  }
 ],
 "metadata": {
  "kernelspec": {
   "display_name": "Julia 1.4.1",
   "language": "julia",
   "name": "julia-1.4"
  },
  "language_info": {
   "file_extension": ".jl",
   "mimetype": "application/julia",
   "name": "julia",
   "version": "1.8.0"
  }
 },
 "nbformat": 4,
 "nbformat_minor": 5
}
